{
 "cells": [
  {
   "cell_type": "markdown",
   "metadata": {},
   "source": [
    "# Physics 404/604\n",
    "\n",
    "## Computational Physics (Spring 2024)\n",
    "\n",
    "\n",
    "| Instructor | Prof. Zhaohuan Zhu                 |\n",
    "| ---------- | :--------------------------------- |\n",
    "| Email      | zhaohuan.zhu@unlv.edu              |\n",
    "| Website    | http://www.physics.unlv.edu/~zhzhu |\n",
    "| Office     | BPB 245                            |\n",
    "\n",
    "\n",
    "\n",
    "# 1 Python Basics\n",
    "## 1.1 Python Installation\n",
    "\n",
    "## Conda (a little bit old, see README of the course)\n",
    "The best way set-up an scientific Python environment is to use the cross-platform package manager conda from Continuum Analytics. First download and install Anaconda https://www.anaconda.com/download/#macos (download Mac or Windows version depending on your operation system). Next, to install the required libraries for these notebooks, simply run following at your anaconda terminal :\n",
    "\n",
    "\t$ conda install jupyter spyder numpy scipy sympy matplotlib cython \n",
    "    \n",
    "To install vpython:  \n",
    "Fllow https://vpython.org/presentation2018/install.html\n",
    "In a Power Shell or Command Prompt (Windows) or Terminal (Mac / Linux) run this command, which will install VPython 7 for Python 2.7, 3.4, 3.5, or 3.6:   \n",
    "\n",
    "    $ pip install vpython  \n",
    "    \n",
    "  Or if using Anaconda, conda install -c vpython vpython   (For Python 3.7, you need to use pip install vpython)\n",
    "    \n",
    "After you installed jupyter, you could run it from the anaconda terminal \n",
    "\n",
    "    $ jupyter notebook\n",
    "    \n",
    "Then you can type python command and save it to your notebook\n",
    "\n",
    "## Viewing Jupyter notebook\n",
    "Sometimes the equations cannot be displayed correctly using the web browser. You can use nbview to get a better display for equations.\n",
    "https://nbviewer.jupyter.org/\n",
    "\n",
    "## Running Jupyter notebook online\n",
    "If you use the department computers, this may work \n",
    "(Please test this)\n",
    "https://jupyter.org/try"
   ]
  },
  {
   "cell_type": "code",
   "execution_count": 6,
   "metadata": {},
   "outputs": [
    {
     "name": "stdout",
     "output_type": "stream",
     "text": [
      "Welcome to Physics 404/604\n"
     ]
    }
   ],
   "source": [
    "#get started\n",
    "print(\"Welcome to Physics 404/604\")"
   ]
  },
  {
   "cell_type": "markdown",
   "metadata": {},
   "source": [
    "## 1.2 Variables \n",
    "  The Rules\n",
    "  * Variables names must start with a letter or an underscore, such as:  \n",
    "    \\_underscore  \n",
    "    underscore\\_  \n",
    "  * The remainder of your variable name may consist of letters, numbers and underscores.  \n",
    "    password1  \n",
    "    n00b  \n",
    "    un_der_scores  \n",
    "  * Names are case sensitive.  \n",
    "    case_sensitive, CASE_SENSITIVE, and Case_Sensitive are each a different variable.  \n",
    "\n",
    "By convention, variable names start with a lower-case letter, and Class names start with a capital letter.  \n",
    "  In addition, there are a number of Python keywords that cannot be used as variable names.   \n",
    "  e.g. False, except, if, and, as, assert, print...... "
   ]
  },
  {
   "cell_type": "code",
   "execution_count": 7,
   "metadata": {},
   "outputs": [],
   "source": [
    "# variable assignments with =\n",
    "# different from C/fortran, no need to specify the type of a varialbe, dynamically typed language\n",
    "x=1.0\n",
    "\n"
   ]
  },
  {
   "cell_type": "code",
   "execution_count": 8,
   "metadata": {},
   "outputs": [
    {
     "name": "stdout",
     "output_type": "stream",
     "text": [
      "1.0 <class 'float'>\n"
     ]
    }
   ],
   "source": [
    "print(x, type(x))"
   ]
  },
  {
   "cell_type": "code",
   "execution_count": 9,
   "metadata": {},
   "outputs": [
    {
     "ename": "SyntaxError",
     "evalue": "invalid syntax (3606474428.py, line 3)",
     "output_type": "error",
     "traceback": [
      "\u001b[0;36m  File \u001b[0;32m\"/var/folders/9y/650d6syj7198jyl1pprv_s2h0000gn/T/ipykernel_22762/3606474428.py\"\u001b[0;36m, line \u001b[0;32m3\u001b[0m\n\u001b[0;31m    1stvelocity=1\u001b[0m\n\u001b[0m     ^\u001b[0m\n\u001b[0;31mSyntaxError\u001b[0m\u001b[0;31m:\u001b[0m invalid syntax\n"
     ]
    }
   ],
   "source": [
    "# In-Class Questions, which ones are valid\n",
    "_velocity=1\n",
    "1stvelocity=1\n",
    "vel1st=1\n",
    "_vel_1st=1\n",
    "vel#2=1\n",
    "vel)=1\n",
    "Name_Student=\"Joe\"\n",
    "_Name~student=\"Bob\""
   ]
  },
  {
   "cell_type": "markdown",
   "metadata": {},
   "source": [
    "### Data Types  \n",
    "    Python has 5 data types  \n",
    "    * Numbers\n",
    "    * String\n",
    "    * List\n",
    "    * Tuple\n",
    "    * Dictionary\n"
   ]
  },
  {
   "cell_type": "code",
   "execution_count": 10,
   "metadata": {},
   "outputs": [],
   "source": [
    "# Numbers:\n",
    "# integers\n",
    "# float\n",
    "# bollean\n",
    "# complex\n",
    "a = 3\n",
    "b = 3.0\n",
    "c = True # or False\n",
    "d = 3.+3.j  #complex numbers w j give Im part"
   ]
  },
  {
   "cell_type": "code",
   "execution_count": 11,
   "metadata": {},
   "outputs": [
    {
     "name": "stdout",
     "output_type": "stream",
     "text": [
      "3 <class 'int'>\n",
      "3.0 <class 'float'>\n",
      "True <class 'bool'>\n",
      "(3+3j) <class 'complex'>\n"
     ]
    }
   ],
   "source": [
    "print(a, type(a))\n",
    "print(b, type(b))\n",
    "print(c, type(c))\n",
    "print(d, type(d))"
   ]
  },
  {
   "cell_type": "code",
   "execution_count": 12,
   "metadata": {},
   "outputs": [
    {
     "name": "stdout",
     "output_type": "stream",
     "text": [
      "welcome <class 'str'>\n"
     ]
    }
   ],
   "source": [
    "# String\n",
    "a = \"welcome\"\n",
    "print(a, type(a))\n"
   ]
  },
  {
   "cell_type": "code",
   "execution_count": 14,
   "metadata": {},
   "outputs": [
    {
     "name": "stdout",
     "output_type": "stream",
     "text": [
      "list index 2 = 3.4\n",
      "list index -1 =  4.5\n",
      "list index 2 to the end =  [3.4, 4.5]\n",
      "list index 0 to 2 =  [1, 'Hello', 3.4]\n"
     ]
    }
   ],
   "source": [
    "# List:\n",
    "# empty list\n",
    "my_list = []\n",
    "\n",
    "# list of integers\n",
    "my_list = [1, 2, 3]\n",
    "\n",
    "# list with mixed datatypes\n",
    "my_list = [1, \"Hello\", 3.4, 4.5]\n",
    "\n",
    "# access list through index, the index starts with 0 !!!\n",
    "print(\"list index 2 =\",my_list[2])\n",
    "\n",
    "# the index can be negative\n",
    "print(\"list index -1 = \",my_list[-1])\n",
    "\n",
    "# or you can select several elements in the list using colon\n",
    "print(\"list index 2 to the end = \",my_list[2:])\n",
    "print(\"list index 0 to 2 = \",my_list[0:3]) # note that 0:3 only select 0,1,2 index !!!!!"
   ]
  },
  {
   "cell_type": "code",
   "execution_count": 15,
   "metadata": {},
   "outputs": [
    {
     "name": "stdout",
     "output_type": "stream",
     "text": [
      "[1, 2, 3, 4, 5]\n"
     ]
    }
   ],
   "source": [
    "# List are mutable, unlike string and tuple\n",
    "array=[1,3,2,5,5]\n",
    "\n",
    "# change the forth element\n",
    "array[3]=4\n",
    "\n",
    "# change the second and third elements\n",
    "array[1:3]=[2,3] # notice that 1:3 selects index 1,2\n",
    "\n",
    "print(array)"
   ]
  },
  {
   "cell_type": "code",
   "execution_count": 16,
   "metadata": {},
   "outputs": [
    {
     "name": "stdout",
     "output_type": "stream",
     "text": [
      "[1, 2, 3, 4, 5, 6]\n",
      "[2, 3, 4, 5, 6]\n"
     ]
    }
   ],
   "source": [
    "# add and delete element\n",
    "array.append(6)\n",
    "print(array)\n",
    "del array[0]\n",
    "print (array)"
   ]
  },
  {
   "cell_type": "code",
   "execution_count": 18,
   "metadata": {},
   "outputs": [
    {
     "name": "stdout",
     "output_type": "stream",
     "text": [
      "0 1 2 3 4 5 6 7 8 9\n",
      "2 3 4 5 6 7 8 9\n",
      "-3 -1 1 3 5 7\n",
      "[1, 2, 4, 8, 16, 32, 64, 128, 256, 512]\n"
     ]
    }
   ],
   "source": [
    "# Ways to create a list\n",
    "index=range(10) # 9 numbers from 0 to 9 !!!!! notice that the last number is 9!!!\n",
    "index2=range(2,10) # with a non-zero start\n",
    "index3=range(-3,9,2) # with a non-zero start and an interval that is different from 1\n",
    "print(*index)# * means unpack the sequence\n",
    "print(*index2)\n",
    "print(*index3)\n",
    "\n",
    "#Fancy way to create a list: List Comprehension\n",
    "pow2 = [2 ** x for x in range(10)]  # x goes 0 to 9 \n",
    "print(pow2)\n"
   ]
  },
  {
   "cell_type": "markdown",
   "metadata": {
    "tags": []
   },
   "source": [
    "#### Dictionary \n",
    " Dictionary: a collection of data e.g. `this={\"brand\": \"Ford\", \"year\": 1964}`\n",
    "\n",
    "Dictionaries and lists share the following characteristics:\n",
    "\n",
    "    Both are mutable.\n",
    "    Both are dynamic. They can grow and shrink as needed.\n",
    "    Both can be nested. A list can contain another list. A dictionary can contain another dictionary. A dictionary can also contain a list, and vice versa.\n",
    "\n",
    "Dictionaries differ from lists primarily in how elements are accessed:\n",
    "\n",
    "    List elements are accessed by their position in the list, via indexing. (e.g. a[0])\n",
    "    Dictionary elements are accessed via keys (e.g. this[\"brand\"]).\n"
   ]
  },
  {
   "cell_type": "code",
   "execution_count": 23,
   "metadata": {},
   "outputs": [
    {
     "name": "stdout",
     "output_type": "stream",
     "text": [
      "Mustang\n",
      "{'brand': 'Ford', 'model': 'Mustang', 'year': 2018}\n",
      "brand Ford\n",
      "model Mustang\n",
      "year 2018\n",
      "[1964, 2020]\n"
     ]
    }
   ],
   "source": [
    "thisdict ={\n",
    "  \"brand\": \"Ford\",\n",
    "  \"model\": \"Mustang\",\n",
    "  \"year\": 1964\n",
    "}\n",
    "\n",
    "# access and change dictionary \n",
    "x = thisdict[\"model\"]\n",
    "print(x)\n",
    "thisdict[\"year\"] = 2018\n",
    "print(thisdict)\n",
    "\n",
    "# loop through the dictionary\n",
    "for x in thisdict: # x is the key\n",
    "  print(x,thisdict[x]) \n",
    "\n",
    "# try it: change the year of this dict to an array [1964, 2020]\n",
    "thisdict[\"year\"]=[1964, 2020]\n",
    "print(thisdict['year'])"
   ]
  },
  {
   "cell_type": "markdown",
   "metadata": {},
   "source": [
    "#### numpy array"
   ]
  },
  {
   "cell_type": "code",
   "execution_count": 24,
   "metadata": {},
   "outputs": [
    {
     "name": "stdout",
     "output_type": "stream",
     "text": [
      "<class 'numpy.ndarray'>\n",
      "(2, 3)\n",
      "6.0\n",
      "[-1.00000000e+00 -9.00000000e-01 -8.00000000e-01 -7.00000000e-01\n",
      " -6.00000000e-01 -5.00000000e-01 -4.00000000e-01 -3.00000000e-01\n",
      " -2.00000000e-01 -1.00000000e-01 -2.22044605e-16  1.00000000e-01\n",
      "  2.00000000e-01  3.00000000e-01  4.00000000e-01  5.00000000e-01\n",
      "  6.00000000e-01  7.00000000e-01  8.00000000e-01  9.00000000e-01\n",
      "  1.00000000e+00  1.10000000e+00  1.20000000e+00  1.30000000e+00\n",
      "  1.40000000e+00  1.50000000e+00  1.60000000e+00  1.70000000e+00\n",
      "  1.80000000e+00  1.90000000e+00  2.00000000e+00  2.10000000e+00\n",
      "  2.20000000e+00  2.30000000e+00  2.40000000e+00  2.50000000e+00\n",
      "  2.60000000e+00  2.70000000e+00  2.80000000e+00  2.90000000e+00\n",
      "  3.00000000e+00  3.10000000e+00  3.20000000e+00  3.30000000e+00\n",
      "  3.40000000e+00  3.50000000e+00  3.60000000e+00  3.70000000e+00\n",
      "  3.80000000e+00  3.90000000e+00  4.00000000e+00  4.10000000e+00\n",
      "  4.20000000e+00  4.30000000e+00  4.40000000e+00  4.50000000e+00\n",
      "  4.60000000e+00  4.70000000e+00  4.80000000e+00  4.90000000e+00]\n",
      "[1 2 3 4 5 6 7 8 9]\n"
     ]
    }
   ],
   "source": [
    "# A lot of times, list are used as arrays. But it is more convenient to use Numpy library to generate/operate arrays\n",
    "# NumPy is the fundamental package for scientific computing in Python. \n",
    "# It is a Python library that provides a multidimensional array object and all the math tools associated with the arrays.\n",
    "\n",
    "import numpy as np\n",
    "\n",
    "a=np.array([1,2,3])\n",
    "b=np.array([[1.,2.,3.],[4.,5.,6.]])\n",
    "c=np.arange(-1.,5.,0.1) # number starting at -1, with interval 0.1, ending at 5.0, do not include 0.1\n",
    "d=np.arange(1,10) # 9 numbers\n",
    "\n",
    "print(type(a))\n",
    "print(b.shape)\n",
    "print(b[1,2]) #second row, third coloumn\n",
    "print(c)\n",
    "print(d)"
   ]
  },
  {
   "cell_type": "markdown",
   "metadata": {},
   "source": [
    "##  1.3 Operators and comparisons\n",
    "Normal definition:\n",
    "\n",
    "Arithmetic operators +, -, $*$, /, % (modulus), // (floor division), $**$ (power)"
   ]
  },
  {
   "cell_type": "code",
   "execution_count": null,
   "metadata": {},
   "outputs": [],
   "source": [
    "x = 14\n",
    "y = 3\n",
    "\n",
    "# Output: x + y = 17\n",
    "print('x + y =',x+y)\n",
    "\n",
    "# Output: x - y = 11\n",
    "print('x - y =',x-y)\n",
    "\n",
    "# Output: x * y = 42\n",
    "print('x * y =',x*y)\n",
    "\n",
    "# Output: x / y = 4.67\n",
    "print('x / y =',x/y) # automatically convert it to float\n",
    "\n",
    "# Output: x // y = 4 \n",
    "# division into integer adjusted to the left in the number line, note negative number)\n",
    "print('x // y =',x//y)\n",
    "\n",
    "# Output: x % y = 4 \n",
    "# modulus (work for both integer and float)\n",
    "print('x % y =',x%y)\n",
    "\n",
    "# Output: x ** y = 2744\n",
    "print('x ** y =',x**y)"
   ]
  },
  {
   "cell_type": "code",
   "execution_count": null,
   "metadata": {},
   "outputs": [],
   "source": [
    "# Comparison operators\n",
    "\n",
    "x = 10\n",
    "y = 12\n",
    "\n",
    "# Output: x > y is False\n",
    "print('x > y  is',x>y)\n",
    "\n",
    "# Output: x < y is True\n",
    "print('x < y  is',x<y)\n",
    "\n",
    "# Output: x == y is False\n",
    "print('x == y is',x==y)\n",
    "\n",
    "# Output: x != y is True\n",
    "print('x != y is',x!=y)\n",
    "\n",
    "# Output: x >= y is False\n",
    "print('x >= y is',x>=y)\n",
    "\n",
    "# Output: x <= y is True\n",
    "print('x <= y is',x<=y)"
   ]
  },
  {
   "cell_type": "code",
   "execution_count": null,
   "metadata": {},
   "outputs": [],
   "source": [
    "# Logical operators\n",
    "\n",
    "x = True\n",
    "y = False\n",
    "\n",
    "# Output: x and y is False\n",
    "print('x and y is',x and y)\n",
    "\n",
    "# Output: x or y is True\n",
    "print('x or y is',x or y)\n",
    "\n",
    "# Output: not x is False\n",
    "print('not x is',not x)\n"
   ]
  },
  {
   "cell_type": "code",
   "execution_count": null,
   "metadata": {},
   "outputs": [],
   "source": [
    "# membership operators: in, not in\n",
    "a=[1,2,3,4]\n",
    "print(1 in a)\n",
    "print(1 not in a)"
   ]
  },
  {
   "cell_type": "markdown",
   "metadata": {},
   "source": [
    "## 1.4 If-else and Indentation\n",
    "\n",
    "One of the most distinctive features of Python is its use of indentation to mark blocks of code.\n",
    "\n",
    "The colon (:) is significant and required. It separates the header of the compound statement from the body.\n",
    "The line after the colon must be indented. It is standard in Python to use four spaces for indenting."
   ]
  },
  {
   "cell_type": "code",
   "execution_count": null,
   "metadata": {},
   "outputs": [],
   "source": [
    "pwd='apple1'\n",
    "if pwd == 'apple':\n",
    "    print('Logging on ...')\n",
    "else:\n",
    "    print('Incorrect password.')\n",
    "    print('Try again') # multiple lines in one block of code need to have the same indentation\n",
    "\n",
    "print('All done!')"
   ]
  },
  {
   "cell_type": "markdown",
   "metadata": {},
   "source": [
    "## 1.5 Loop\n",
    "\n",
    "For loop and While loop"
   ]
  },
  {
   "cell_type": "code",
   "execution_count": null,
   "metadata": {},
   "outputs": [],
   "source": [
    "# For loop\n",
    "#The for loop that is used to iterate over elements of a sequence, it is often \n",
    "#used when you have a piece of code which you want to repeat \"n\" number of time. \n",
    "\n",
    "#It works like this: \" for all elements in a list, do this \"\n",
    "\n",
    "computer_brands = [\"Apple\", \"Asus\", \"Dell\", \"Samsung\"]\n",
    "for brands in computer_brands:\n",
    "    print(brands)  # need indentation to show it is within for block"
   ]
  },
  {
   "cell_type": "code",
   "execution_count": null,
   "metadata": {},
   "outputs": [],
   "source": [
    "# to loop through integers\n",
    "for i in range(10): # the most common way to generate a loop\n",
    "    c=2*i\n",
    "    print(c)\n",
    "    \n",
    "# to loop through arrays\n",
    "import numpy as np\n",
    "for a in np.arange(0.1,1.0,0.1):\n",
    "    print(a)\n",
    "    \n",
    "# try this, calculate 1+2+3....+100\n",
    "b=1.\n",
    "\n",
    "\n",
    "print(b)"
   ]
  },
  {
   "cell_type": "markdown",
   "metadata": {},
   "source": [
    "Sometimes if you have an array and you want to loop through the array to get both the index and element of the array, you can use ** enumerate** function.\n",
    "\n",
    "Enumerate() method adds a counter to an iterable and returns it in a form of enumerate object. This enumerate object can then be used directly in for loops"
   ]
  },
  {
   "cell_type": "code",
   "execution_count": null,
   "metadata": {},
   "outputs": [],
   "source": [
    "l1 = [\"eat\",\"sleep\",\"repeat\"] \n",
    "  \n",
    "# creating enumerate objects \n",
    "obj1 = enumerate(l1) \n",
    "\n",
    "print(\"Return type:\",type(obj1) )\n",
    "print(list(enumerate(l1)) )\n"
   ]
  },
  {
   "cell_type": "code",
   "execution_count": null,
   "metadata": {},
   "outputs": [],
   "source": [
    "# initializing list \n",
    "list1 = [1, 4, 5, 6, 7] \n",
    "list2 = [2, 8, 9, 10, 11]\n",
    "# using enumerate to \n",
    "# get index and value .\n",
    "print (\"List index-value are : \") \n",
    "for index, value in enumerate(list1): \n",
    "    print(index, value, list2[index]) # This saves writing \"list1[index]\" every time.\n",
    "\n",
    "for index in range(len(list1)):\n",
    "    print(index,list1[index],list2[index])"
   ]
  },
  {
   "cell_type": "markdown",
   "metadata": {},
   "source": [
    "## 1.6 Open and Read Files\n"
   ]
  },
  {
   "cell_type": "code",
   "execution_count": null,
   "metadata": {},
   "outputs": [],
   "source": [
    "import numpy as np\n",
    "import matplotlib.pyplot as plt\n",
    "import os\n",
    "\n",
    "file = open('data.tab','r')\n",
    "\n",
    "# Read and ignore header lines\n",
    "header1 = file.readline()\n",
    "header2 = file.readline()\n",
    "x1v = []\n",
    "rho = []\n",
    "vel2 = []\n",
    "for line in file: # Loop through every line in the file\n",
    "    line = line.strip() # The strip() removes characters from both left and right \n",
    "    columns = line.split() # Split the string into many columns\n",
    "    x1v = np.append(x1v,float(columns[1])) # convert the column into floating numbers\n",
    "    rho = np.append(rho,float(columns[2]))\n",
    "    vel2 = np.append(vel2,float(columns[5]))\n",
    "print(x1v)"
   ]
  },
  {
   "cell_type": "code",
   "execution_count": null,
   "metadata": {},
   "outputs": [],
   "source": [
    "# A little bit more complicated data readin\n",
    "import numpy as np\n",
    "import matplotlib.pyplot as plt\n",
    "import sys\n",
    "\n",
    "# now define a function to read in files\n",
    "def readfile(name):\n",
    " f = open(name,'r')\n",
    " header1 = f.readline() # one header line\n",
    " header2 = f.readline()\n",
    " data={'ind':[],'x1v':[],'rho':[],'press':[],'vel1':[],'vel2':[],'vel3':[]} # use dictionary to organize the arrays, each element is an array \n",
    " for line in f:\n",
    "    # try yourself to readin the data to the dictionary\n",
    "    \n",
    "   ##\n",
    " return(data)\n",
    "\n",
    "# calling the function\n",
    "readfile(\"data.tab\")"
   ]
  },
  {
   "cell_type": "markdown",
   "metadata": {},
   "source": [
    "# 2 Making Plots\n",
    "  \n",
    "## 2.1 Matplotlib\n",
    "\n",
    "Powerful plotting package. Most commonly used python plotting tool. Has similar commands as MATLAB. Uses the NumPy array objects to store the data to plot. Different from VPython which adds points one by one. "
   ]
  },
  {
   "cell_type": "code",
   "execution_count": null,
   "metadata": {},
   "outputs": [],
   "source": [
    "\"\"\" From \"COMPUTATIONAL PHYSICS\", 3rd Ed, Enlarged Python eTextBook  \n",
    "    by RH Landau, MJ Paez, and CC Bordeianu\n",
    "    Copyright Wiley-VCH Verlag GmbH & Co. KGaA, Berlin;  Copyright R Landau,\n",
    "    Oregon State Unv, MJ Paez, Univ Antioquia, C Bordeianu, Univ Bucharest, 2015.\n",
    "    Support by National Science Foundation\"\"\"                                                       \n",
    "\n",
    "# EasyMatPlot.py:                 Simple use of matplotlib's plot command \n",
    "from pylab import *           # Load Matplotlib\n",
    "\n",
    "Xmin = -5.0;        Xmax = +5.0;      Npoints= 500\n",
    "DelX= (Xmax-Xmin)/Npoints                                      # Delta x\n",
    "x = arange(Xmin, Xmax, DelX)      # Form x array in range with increment \n",
    "y =  sin(x)*sin(x*x)              # y array = function of x array\n",
    "\n",
    "print ('arange => x[0], x[1],x[499]=%8.2f %8.2f %8.2f' %(x[0],x[1],x[499]))\n",
    "print ('arange => y[0], y[1],y[499]=%8.2f %8.2f %8.2f' %(y[0],y[1],y[499]))\n",
    "print (\"\\n Now doing the plotting thing, look for Figure 1 on desktop\" )                                                                                       \n",
    "xlabel('x');      ylabel('f(x)');     title(' f(x) vs x')        # labels\n",
    "text(-1.85,  0.75, 'MatPlotLib Example')                     # Text on plot\n",
    "plot(x, y, '-', lw=2)                                 # dash means it is a line                     \n",
    "grid(True)                                                    # Form grid\n",
    "show()                                                 # Make screen plot"
   ]
  },
  {
   "cell_type": "code",
   "execution_count": null,
   "metadata": {},
   "outputs": [],
   "source": [
    "x=np.arange(0.,2.*3.14,0.01)\n",
    "y=sin(x)\n",
    "plt.plot(x,y)\n",
    "y=sin(3.*x)\n",
    "plt.plot(x,y)\n",
    "y=sin(5.*x)\n",
    "plt.plot(x,y)\n",
    "\n",
    "plt.xlabel('time')\n",
    "plt.ylim(-2,2)\n",
    "plt.show()"
   ]
  },
  {
   "cell_type": "code",
   "execution_count": null,
   "metadata": {},
   "outputs": [],
   "source": [
    "# Please make a plot showing y=x, y=x-1./6.*x**3, together with y=sin(x) from -2pi to 2pi. \n",
    "# Please limit the y axis range from -2 to 2. (using plt.ylim(a,b) function where a and b are the starting and ending number on the axis)\n"
   ]
  },
  {
   "cell_type": "code",
   "execution_count": null,
   "metadata": {},
   "outputs": [],
   "source": [
    "\"\"\" From \"COMPUTATIONAL PHYSICS\", 3rd Ed, Enlarged Python eTextBook  \n",
    "    by RH Landau, MJ Paez, and CC Bordeianu\n",
    "    Copyright Wiley-VCH Verlag GmbH & Co. KGaA, Berlin;  Copyright R Landau,\n",
    "    Oregon State Unv, MJ Paez, Univ Antioquia, C Bordeianu, Univ Bucharest, 2015.\n",
    "    Support by National Science Foundation\"\"\"\n",
    "\n",
    "# Grade.py: Using Matplotlib's plot command with multi data sets & curves\n",
    "\n",
    "import pylab as p                           # import Matplotlib label it as p\n",
    "from numpy import *                                 # import numpy library\n",
    "\n",
    "p.title('Grade Inflation')                             # Title and labels\n",
    "p.xlabel('Years in College')\n",
    "p.ylabel('GPA')\n",
    "\n",
    "xa = array([-1, 5])                                 # For horizontal line\n",
    "ya = array([0, 0])                                       # Array of zeros\n",
    "p.plot(xa, ya)                                     # Draw horizontal line\n",
    "                                                   \n",
    "x0 = array([0, 1, 2, 3, 4])                           # Data set 0 points\n",
    "y0 = array([-1.4, +1.1, 2.2, 3.3, 4.0])\n",
    "p.plot(x0, y0, 'bo')                          # Data set 0 = blue circles\n",
    "p.plot(x0, y0, 'g')                                   # Data set 0 = line\n",
    "\n",
    "y1 = array([4.0, 2.7, -1.8, -0.9, 2.6])               # Data set 1 points\n",
    "t = arange(0, 5, 1)\n",
    "p.plot(t, y1, 'r')                                          \n",
    "\n",
    "err1sup = array([1.0, 0.3, 1.2, 0.4, 0.1])        # Asymmetric error bars\n",
    "err1inf = array([2.0, 0.6, 2.3, 1.8, 0.4])                    \n",
    "p.errorbar(t, y1, [err1inf, err1sup], fmt = 'o')        # Plot error bars\n",
    "\n",
    "p.grid(True)                                                  # Grid line\n",
    "p.show()                                          # Create plot on screen"
   ]
  },
  {
   "cell_type": "markdown",
   "metadata": {},
   "source": [
    "It can also plot 3-D data.   \n",
    "Two ways:  \n",
    "1) 3-D surface  \n",
    "2) 2-D color contour"
   ]
  },
  {
   "cell_type": "code",
   "execution_count": null,
   "metadata": {},
   "outputs": [],
   "source": [
    "# Plot the potential of a point mass with two methods (two subplots)\n",
    "\n",
    "import matplotlib.pylab  as p                                     \n",
    "from mpl_toolkits.mplot3d import Axes3D        \n",
    "\n",
    "# to make 3-D plot, need Axes3D package from matplot tool kit\n",
    "\n",
    "delta = 0.1\n",
    "x = p.arange( -3., 3., delta )\n",
    "y = p.arange( -3., 3., delta )\n",
    "X, Y = p.meshgrid(x, y)                 # set coordinate grid matrix, X, Y are 2D array\n",
    "smooth = 0.3                           # smoothing length to avoid singularity\n",
    "Z = -1./p.sqrt(X*X+Y*Y+smooth*smooth)                               # Surface height\n",
    "\n",
    "fig = p.figure()                                    # Create figure\n",
    "\n",
    "ax = fig.add_subplot(2,2,1)\n",
    "levels=p.arange(Z.min(),Z.max(),(Z.max() - Z.min())/100.) #contour levels#\n",
    "CS=p.contour(x,y,Z, levels=levels)\n",
    "# CS=p.contourf(x,y,Z, levels=levels)\n",
    "p.xlabel('X')\n",
    "p.ylabel('Y')\n",
    "p.colorbar(CS)\n",
    "\n",
    "ax = fig.add_subplot(2,2,3,projection='3d')          # the 2 by 2, 4 subplots, the first one\n",
    "ax.plot_surface(X, Y, Z)                            # Surface\n",
    "ax.plot_wireframe(X, Y, Z, color = 'r')               # Add wireframe\n",
    "ax.set_xlabel('X')\n",
    "ax.set_ylabel('Y')\n",
    "ax.set_zlabel('Z')\n",
    "\n",
    "\n",
    "p.show()                                             # Output figure"
   ]
  },
  {
   "cell_type": "code",
   "execution_count": null,
   "metadata": {},
   "outputs": [],
   "source": [
    "delta = 1\n",
    "x = np.arange( -3., 3., delta )\n",
    "y = np.arange( -2., 2., delta )\n",
    "print(x,y)\n",
    "X, Y = np.meshgrid(x, y)\n",
    "Z = -1./np.sqrt(X*X+Y*Y)\n",
    "print(Y)\n",
    "print(X.shape, Y.shape, Z.shape)"
   ]
  },
  {
   "cell_type": "code",
   "execution_count": null,
   "metadata": {},
   "outputs": [],
   "source": [
    "print(x.shape,y.shape,Z.shape)"
   ]
  },
  {
   "cell_type": "markdown",
   "metadata": {},
   "source": [
    "# Homework\n",
    "\n",
    "Generate a new jupyter notebook file for this homework\n",
    "\n",
    "Write a program to plot\n",
    "\\begin{equation}\n",
    "f(x)=\\pi/2+2*(sin(x)+sin(3x)/3+sin(5x)/5+....sin(nx)/n)\n",
    "\\end{equation}\n",
    "from -$\\pi$ to $\\pi$. Choose n=11, 21 and 31 and plot all these three curves in one figure. Please use numpy library and matplotlib.\n",
    "\n",
    "Then commit this to your github.\n",
    "\n"
   ]
  },
  {
   "cell_type": "code",
   "execution_count": null,
   "metadata": {},
   "outputs": [],
   "source": [
    "\n"
   ]
  }
 ],
 "metadata": {
  "kernelspec": {
   "display_name": "Python 3 (ipykernel)",
   "language": "python",
   "name": "python3"
  },
  "language_info": {
   "codemirror_mode": {
    "name": "ipython",
    "version": 3
   },
   "file_extension": ".py",
   "mimetype": "text/x-python",
   "name": "python",
   "nbconvert_exporter": "python",
   "pygments_lexer": "ipython3",
   "version": "3.9.7"
  }
 },
 "nbformat": 4,
 "nbformat_minor": 4
}
