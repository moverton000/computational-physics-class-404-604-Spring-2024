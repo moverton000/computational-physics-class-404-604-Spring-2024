{
 "cells": [
  {
   "cell_type": "markdown",
   "id": "ef9502f7-e6ef-4165-9dd3-43cc40e25c82",
   "metadata": {
    "tags": []
   },
   "source": [
    "# Homework: \n",
    "\n",
    "using Newton-Raphson method to solve above equation arrays. \n",
    "\n",
    "Hint: first you need to derive the partical derivative of the equation arrays. You can do it either analytically by hand or numerically using method we learned in the last lecture."
   ]
  },
  {
   "cell_type": "markdown",
   "id": "2b88a58d-8e4f-45a5-b328-b471721cc239",
   "metadata": {},
   "source": [
    "## Newton-Raphson for equations\n",
    "Find the solution for  \n",
    "\\begin{eqnarray}\n",
    "x_{1}^2+x_{1}x_{2}=10\\\\\n",
    "x_{2}+3x_{1}x_{2}^2=57\n",
    "\\end{eqnarray}\n",
    "\n",
    "Note: if do derivatives numerically, an example of small number dx = 1e-6"
   ]
  },
  {
   "cell_type": "code",
   "execution_count": 47,
   "id": "eba44195-e7b2-41b8-938c-af551c09d94b",
   "metadata": {},
   "outputs": [
    {
     "data": {
      "text/plain": [
       "[<matplotlib.lines.Line2D at 0x7faa8835d6d0>]"
      ]
     },
     "execution_count": 47,
     "metadata": {},
     "output_type": "execute_result"
    },
    {
     "data": {
      "image/png": "[encoded data removed]",
      "text/plain": [
       "<Figure size 432x288 with 1 Axes>"
      ]
     },
     "metadata": {
      "needs_background": "light"
     },
     "output_type": "display_data"
    }
   ],
   "source": [
    "## Always a good idea to draw the function first\n",
    "import matplotlib.pyplot as plt\n",
    "import numpy as np\n",
    "\n",
    "def f1(x):\n",
    "    return (10.-x*x)/x  # = x2 \n",
    "\n",
    "def f2(x):\n",
    "    return (-1+np.sqrt(1.+4.*3.*x*57))/6./x\n",
    "\n",
    "## Draw graphics to roughly determine x1 and x2\n",
    "\n",
    "pltx = np.arange(0.2, 5, .2)\n",
    "\n",
    "plt.plot(pltx, f1(pltx))\n",
    "plt.plot(pltx, f2(pltx))"
   ]
  },
  {
   "cell_type": "code",
   "execution_count": 50,
   "id": "c1e3e50b-270f-4086-9444-d1499f62a026",
   "metadata": {},
   "outputs": [],
   "source": [
    "import matplotlib.pyplot as plt\n",
    "import numpy as np\n",
    "\n",
    "\n",
    "def f1(x1,x2):\n",
    "    return (x1*x1+x1*x2-10.)\n",
    "\n",
    "def f2(x1,x2):\n",
    "    return (x2+3*x1*x2*x2-57)\n",
    "\n",
    "def f1x1(x1,x2): #a\n",
    "    return (2*x1+x2)\n",
    "\n",
    "def f1x2(x1,x2): #b\n",
    "    return x1\n",
    "    \n",
    "def f2x1(x1,x2): #c\n",
    "    return 3*x2**2\n",
    "    \n",
    "def f2x2(x1,x2): #d \n",
    "    return (1+6*x1*x2)\n",
    "    \n",
    "def dx1(f1,f2,f1x1,f1x2,f2x1,f2x2,x1,x2): # find correction: delta x1 \n",
    "    #return ( x1*(x2 + 3*x1*x2**2 -57) - (1 - 6*x1*x2) ) / ( (2*x1+x2)*(1+6*x1*x2) - 3*x1*x2**2 )\n",
    "    return ( f1x2(x1, x2)*f2(x1, x2) - f2x2(x1, x2)*f1(x1, x2) )/(f1x1(x1, x2)*f2x2(x1, x2) - f1x2(x1, x2)*f2x1(x1, x2) )\n",
    "    \n",
    "def dx2(f1,f2,f1x1,f1x2,f2x1,f2x2,x1,x2): # find correction: delta x2\n",
    "    #return (x1*(x2+3*x1*x2**2-57) - 1 - 6*x1*x2) / ( (2*x1+x2)*(1+6*x1*x2) - 3*x1*x2**2 )\n",
    "    return (f2x1(x1, x2)*f1(x1, x2)-f1x1(x1, x2)*f2(x1, x2))/(f1x1(x1, x2)*f2x2(x1, x2)-f1x2(x1, x2)*f2x1(x1, x2))"
   ]
  },
  {
   "cell_type": "code",
   "execution_count": 53,
   "id": "a2efa256-6816-4de5-a27f-ac87eb32ccc5",
   "metadata": {},
   "outputs": [
    {
     "name": "stdout",
     "output_type": "stream",
     "text": [
      "Solution is at x1= 1.9999999999990041 , x2= 3.0000000000105147  after  3  iterations, with a precision of 1.4058088027013582e-11\n"
     ]
    }
   ],
   "source": [
    "def nr(x10, x20, nmax, eps, f1, f2): \n",
    "    for i in range(0, nmax):\n",
    "        x10 = x10 + dx1(f1, f2, f1x1, f1x2, f2x1, f2x2, x10, x20)\n",
    "        x20 = x20 + dx2(f1, f2, f1x1, f1x2, f2x1, f2x2, x10, x20)\n",
    "        if(abs(f1(x10, x20))<eps and f2(x10,x20)<eps):\n",
    "            print(\"Solution is at x1=\",x10, \", x2=\", x20, \" after \",i,\" iterations, with a precision of\",abs(f1(x10, x20)))\n",
    "            break\n",
    "    return (x10, x20)\n",
    "\n",
    "x1 = 1.\n",
    "x2 = 2.\n",
    "\n",
    "eps = 1e-6\n",
    "nmax = 100 \n",
    "\n",
    "sol = nr(x1, x2, nmax, eps, f1, f2)"
   ]
  },
  {
   "cell_type": "markdown",
   "id": "d33b54ba-ddbe-410b-bb7f-bb11fe8c7820",
   "metadata": {},
   "source": []
  },
  {
   "cell_type": "code",
   "execution_count": null,
   "id": "a62b97be-ec0c-4bb8-b217-c4e86135f1a9",
   "metadata": {},
   "outputs": [],
   "source": []
  }
 ],
 "metadata": {
  "kernelspec": {
   "display_name": "Python 3 (ipykernel)",
   "language": "python",
   "name": "python3"
  },
  "language_info": {
   "codemirror_mode": {
    "name": "ipython",
    "version": 3
   },
   "file_extension": ".py",
   "mimetype": "text/x-python",
   "name": "python",
   "nbconvert_exporter": "python",
   "pygments_lexer": "ipython3",
   "version": "3.9.7"
  }
 },
 "nbformat": 4,
 "nbformat_minor": 5
}
